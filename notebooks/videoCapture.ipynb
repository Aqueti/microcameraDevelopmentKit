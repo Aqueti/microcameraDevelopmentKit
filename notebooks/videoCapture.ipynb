{
 "cells": [
  {
   "cell_type": "markdown",
   "metadata": {},
   "source": [
    "# Video\n",
    "## Duke Kunshan University Spring 2018\n",
    "### David Brady\n",
    "Monday 26 March 2018"
   ]
  },
  {
   "cell_type": "markdown",
   "metadata": {},
   "source": [
    "This notebook contains scripts for capturing video at high frame rate. Our cameras can capture in the following modes:\n",
    "\n",
    "mode 1: 3864 x 2174 FR=60.000000 CF=0x1009208a10 SensorModeType=4 CSIPixelBitDepth=10 DynPixelBitDepth=10\n",
    "\n",
    "mode 2: 1932 x 1094 FR=120.000000 CF=0x1009208a10 SensorModeType=4 CSIPixelBitDepth=10 DynPixelBitDepth=10\n",
    "\n",
    "mode 3: 1288 x 734 FR=120.000000 CF=0x1009208a10 SensorModeType=4 CSIPixelBitDepth=10 DynPixelBitDepth=10\n",
    "\n",
    "mode 4: 1288 x 546 FR=240.000000 CF=0x1009208a10 SensorModeType=4 CSIPixelBitDepth=10 DynPixelBitDepth=10\n",
    "\n",
    "\n"
   ]
  },
  {
   "cell_type": "code",
   "execution_count": 1,
   "metadata": {
    "collapsed": true
   },
   "outputs": [],
   "source": [
    "import numpy as np\n",
    "import matplotlib as mpl\n",
    "import matplotlib.pyplot as plt\n",
    "import subprocess\n",
    "import skimage\n",
    "import skimage.io as imio\n",
    "import skimage.transform as trans\n",
    "import glob\n",
    "import re\n",
    "from time import gmtime, strftime, sleep\n",
    "from scipy import interpolate as interp\n",
    "%matplotlib inline\n",
    "mpl.rcParams['figure.figsize'] = (16.0, 8.0) "
   ]
  },
  {
   "cell_type": "code",
   "execution_count": 3,
   "metadata": {
    "collapsed": true
   },
   "outputs": [],
   "source": [
    "def gstVideo(sid=1, cameraNumber=6, captureMode=1, frames=1200, fileOut=\"test.mp4\"):\n",
    "        cmdA='rsh ubuntu@10.0.1.'+str(cameraNumber)\n",
    "        cmdB='rcp ubuntu@10.0.1.'+str(cameraNumber)\n",
    "        cmD=cmdA+\" /home/ubuntu/bin/grabVidModes.py \"+str(sid)+' '+str(frames)+' '+str(captureMode)\n",
    "        a=subprocess.run(cmD, stdout=subprocess.PIPE, shell=True)\n",
    "        subprocess.run(cmdB+':grabVid.h264 .', \\\n",
    "            stdout=subprocess.PIPE, shell=True)\n",
    "        subprocess.run('ffmpeg -i grabVid.h264 -an -y -vcodec copy '+fileOut, \\\n",
    "            stdout=subprocess.PIPE, shell=True)\n",
    "        return a.stdout"
   ]
  },
  {
   "cell_type": "code",
   "execution_count": 5,
   "metadata": {
    "collapsed": true
   },
   "outputs": [],
   "source": [
    "def slowMo(rate=2, fileIn=\"test.mp4\", fileOut=\"newVideo.mp4\"):\n",
    "    cmd='ffmpeg -y -i '+fileIn+' -filter:v \\\"setpts='+str(rate)+'*PTS\\\" '+fileOut\n",
    "    a=subprocess.run(cmd, stdout=subprocess.PIPE, shell=True)\n",
    "    return a.stdout"
   ]
  },
  {
   "cell_type": "code",
   "execution_count": 8,
   "metadata": {
    "collapsed": true
   },
   "outputs": [],
   "source": [
    "b=gstVideo(sid=0,captureMode=4, fileOut=\"test5.mp4\")"
   ]
  },
  {
   "cell_type": "code",
   "execution_count": 6,
   "metadata": {},
   "outputs": [
    {
     "data": {
      "text/plain": [
       "b''"
      ]
     },
     "execution_count": 6,
     "metadata": {},
     "output_type": "execute_result"
    }
   ],
   "source": [
    "slowMo(rate=4, fileIn=\"water.mp4\",fileOut=\"water2.mp4\")"
   ]
  },
  {
   "cell_type": "code",
   "execution_count": null,
   "metadata": {
    "collapsed": true
   },
   "outputs": [],
   "source": []
  }
 ],
 "metadata": {
  "kernelspec": {
   "display_name": "Python 3",
   "language": "python",
   "name": "python3"
  },
  "language_info": {
   "codemirror_mode": {
    "name": "ipython",
    "version": 3
   },
   "file_extension": ".py",
   "mimetype": "text/x-python",
   "name": "python",
   "nbconvert_exporter": "python",
   "pygments_lexer": "ipython3",
   "version": "3.6.3"
  }
 },
 "nbformat": 4,
 "nbformat_minor": 2
}
